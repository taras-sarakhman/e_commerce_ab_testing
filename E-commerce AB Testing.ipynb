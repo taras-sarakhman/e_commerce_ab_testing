{
 "cells": [
  {
   "cell_type": "markdown",
   "metadata": {
    "colab_type": "text",
    "id": "ONsJsitIRv33"
   },
   "source": [
    "# Price experiment A/B test"
   ]
  },
  {
   "cell_type": "markdown",
   "metadata": {
    "colab_type": "text",
    "id": "dXI_tiL2R9mS"
   },
   "source": [
    "`price_experiment.csv` dataset contains transaction recordsreceived during testing different product price configurations.\n",
    "\n",
    "- `user_conversion_rate`\n",
    "- `ARPO` - average revenue per paid order (price)\n",
    "- `AOPU` - average number of paid orders per user\n",
    "- `ret1to2` - ratio of users who retuned to service and bought their 2nd order after buying the 1st\n",
    "- `ARPU_visitor` - average revenue per user (visitor), without excluding `order_costs`\n",
    "- `APPU_visitor` - average profit per user (visitor), excluding `order_costs`\n",
    "\n",
    "\n",
    "The Question: Which price configuration `Default` or `New` would you recommend to use in future? Why?"
   ]
  },
  {
   "cell_type": "code",
   "execution_count": 1,
   "metadata": {
    "colab": {
     "base_uri": "https://localhost:8080/",
     "height": 390
    },
    "colab_type": "code",
    "executionInfo": {
     "elapsed": 1908,
     "status": "ok",
     "timestamp": 1582792718617,
     "user": {
      "displayName": "Instructor DEVrepublik",
      "photoUrl": "",
      "userId": "04126342601489839050"
     },
     "user_tz": -120
    },
    "id": "3COEUvKgVknd",
    "outputId": "801b2dd6-6a6e-4498-d494-6ec8e6212076"
   },
   "outputs": [
    {
     "data": {
      "text/html": [
       "<div>\n",
       "<style scoped>\n",
       "    .dataframe tbody tr th:only-of-type {\n",
       "        vertical-align: middle;\n",
       "    }\n",
       "\n",
       "    .dataframe tbody tr th {\n",
       "        vertical-align: top;\n",
       "    }\n",
       "\n",
       "    .dataframe thead th {\n",
       "        text-align: right;\n",
       "    }\n",
       "</style>\n",
       "<table border=\"1\" class=\"dataframe\">\n",
       "  <thead>\n",
       "    <tr style=\"text-align: right;\">\n",
       "      <th></th>\n",
       "      <th>order_date</th>\n",
       "      <th>customer_id</th>\n",
       "      <th>is_paid_order</th>\n",
       "      <th>order_total_usd</th>\n",
       "      <th>order_costs_usd</th>\n",
       "      <th>split_variant</th>\n",
       "    </tr>\n",
       "    <tr>\n",
       "      <th>order_id</th>\n",
       "      <th></th>\n",
       "      <th></th>\n",
       "      <th></th>\n",
       "      <th></th>\n",
       "      <th></th>\n",
       "      <th></th>\n",
       "    </tr>\n",
       "  </thead>\n",
       "  <tbody>\n",
       "    <tr>\n",
       "      <th>0</th>\n",
       "      <td>2019-11-20 14:31:25</td>\n",
       "      <td>2688275</td>\n",
       "      <td>0</td>\n",
       "      <td>0.0</td>\n",
       "      <td>0.0</td>\n",
       "      <td>New</td>\n",
       "    </tr>\n",
       "    <tr>\n",
       "      <th>1</th>\n",
       "      <td>2019-11-20 14:32:38</td>\n",
       "      <td>2688282</td>\n",
       "      <td>0</td>\n",
       "      <td>0.0</td>\n",
       "      <td>0.0</td>\n",
       "      <td>New</td>\n",
       "    </tr>\n",
       "    <tr>\n",
       "      <th>2</th>\n",
       "      <td>2019-11-20 14:32:55</td>\n",
       "      <td>2688283</td>\n",
       "      <td>0</td>\n",
       "      <td>0.0</td>\n",
       "      <td>0.0</td>\n",
       "      <td>Default</td>\n",
       "    </tr>\n",
       "    <tr>\n",
       "      <th>3</th>\n",
       "      <td>2019-11-20 14:36:12</td>\n",
       "      <td>2688298</td>\n",
       "      <td>0</td>\n",
       "      <td>0.0</td>\n",
       "      <td>0.0</td>\n",
       "      <td>Default</td>\n",
       "    </tr>\n",
       "    <tr>\n",
       "      <th>4</th>\n",
       "      <td>2019-11-20 14:37:49</td>\n",
       "      <td>2688306</td>\n",
       "      <td>0</td>\n",
       "      <td>0.0</td>\n",
       "      <td>0.0</td>\n",
       "      <td>Default</td>\n",
       "    </tr>\n",
       "    <tr>\n",
       "      <th>5</th>\n",
       "      <td>2019-11-20 14:40:20</td>\n",
       "      <td>2688313</td>\n",
       "      <td>0</td>\n",
       "      <td>0.0</td>\n",
       "      <td>0.0</td>\n",
       "      <td>Default</td>\n",
       "    </tr>\n",
       "    <tr>\n",
       "      <th>6</th>\n",
       "      <td>2019-11-20 14:41:26</td>\n",
       "      <td>2688315</td>\n",
       "      <td>0</td>\n",
       "      <td>0.0</td>\n",
       "      <td>0.0</td>\n",
       "      <td>Default</td>\n",
       "    </tr>\n",
       "    <tr>\n",
       "      <th>7</th>\n",
       "      <td>2019-11-20 14:41:30</td>\n",
       "      <td>2688316</td>\n",
       "      <td>0</td>\n",
       "      <td>0.0</td>\n",
       "      <td>0.0</td>\n",
       "      <td>New</td>\n",
       "    </tr>\n",
       "    <tr>\n",
       "      <th>8</th>\n",
       "      <td>2019-11-20 14:55:00</td>\n",
       "      <td>2688345</td>\n",
       "      <td>0</td>\n",
       "      <td>0.0</td>\n",
       "      <td>0.0</td>\n",
       "      <td>New</td>\n",
       "    </tr>\n",
       "    <tr>\n",
       "      <th>9</th>\n",
       "      <td>2019-11-20 14:57:08</td>\n",
       "      <td>2688349</td>\n",
       "      <td>0</td>\n",
       "      <td>0.0</td>\n",
       "      <td>0.0</td>\n",
       "      <td>Default</td>\n",
       "    </tr>\n",
       "  </tbody>\n",
       "</table>\n",
       "</div>"
      ],
      "text/plain": [
       "                  order_date  customer_id  is_paid_order  order_total_usd  \\\n",
       "order_id                                                                    \n",
       "0        2019-11-20 14:31:25      2688275              0              0.0   \n",
       "1        2019-11-20 14:32:38      2688282              0              0.0   \n",
       "2        2019-11-20 14:32:55      2688283              0              0.0   \n",
       "3        2019-11-20 14:36:12      2688298              0              0.0   \n",
       "4        2019-11-20 14:37:49      2688306              0              0.0   \n",
       "5        2019-11-20 14:40:20      2688313              0              0.0   \n",
       "6        2019-11-20 14:41:26      2688315              0              0.0   \n",
       "7        2019-11-20 14:41:30      2688316              0              0.0   \n",
       "8        2019-11-20 14:55:00      2688345              0              0.0   \n",
       "9        2019-11-20 14:57:08      2688349              0              0.0   \n",
       "\n",
       "          order_costs_usd split_variant  \n",
       "order_id                                 \n",
       "0                     0.0           New  \n",
       "1                     0.0           New  \n",
       "2                     0.0       Default  \n",
       "3                     0.0       Default  \n",
       "4                     0.0       Default  \n",
       "5                     0.0       Default  \n",
       "6                     0.0       Default  \n",
       "7                     0.0           New  \n",
       "8                     0.0           New  \n",
       "9                     0.0       Default  "
      ]
     },
     "execution_count": 1,
     "metadata": {},
     "output_type": "execute_result"
    }
   ],
   "source": [
    "import pandas as pd\n",
    "\n",
    "df = pd.read_csv(\"price_experiment.csv\", index_col=0, parse_dates=[\"order_date\"])\n",
    "df.head(10)"
   ]
  },
  {
   "cell_type": "code",
   "execution_count": 0,
   "metadata": {
    "colab": {},
    "colab_type": "code",
    "id": "ODcYBNTMaG81"
   },
   "outputs": [],
   "source": [
    "# YOUR CODE GOES HERE\n",
    "\n",
    "from scipy.stats import ttest_ind\n",
    "\n",
    "grouped = df.groupby(\"customer_id\")\n",
    "\n",
    "df_usrs = pd.DataFrame()\n",
    "df_usrs[\"OPU\"] = grouped.is_paid_order.sum()\n",
    "df_usrs[\"RPO\"] = grouped.order_total_usd.mean()\n",
    "df_usrs[\"RPU\"] = grouped.order_total_usd.sum()\n",
    "df_usrs[\"PPU\"] = grouped.apply(lambda x: x.order_total_usd.sum() - x.order_costs_usd.sum())\n",
    "df_usrs[\"split_variant\"] = grouped.apply(lambda x: x.split_variant.iloc[0])"
   ]
  },
  {
   "cell_type": "code",
   "execution_count": 10,
   "metadata": {
    "colab": {
     "base_uri": "https://localhost:8080/",
     "height": 450
    },
    "colab_type": "code",
    "executionInfo": {
     "elapsed": 547,
     "status": "ok",
     "timestamp": 1582792889337,
     "user": {
      "displayName": "Instructor DEVrepublik",
      "photoUrl": "",
      "userId": "04126342601489839050"
     },
     "user_tz": -120
    },
    "id": "1PHdWiOhe2MS",
    "outputId": "0624ca9f-96a9-4391-cbec-bacae1ed8460"
   },
   "outputs": [
    {
     "data": {
      "text/html": [
       "<div>\n",
       "<style scoped>\n",
       "    .dataframe tbody tr th:only-of-type {\n",
       "        vertical-align: middle;\n",
       "    }\n",
       "\n",
       "    .dataframe tbody tr th {\n",
       "        vertical-align: top;\n",
       "    }\n",
       "\n",
       "    .dataframe thead th {\n",
       "        text-align: right;\n",
       "    }\n",
       "</style>\n",
       "<table border=\"1\" class=\"dataframe\">\n",
       "  <thead>\n",
       "    <tr style=\"text-align: right;\">\n",
       "      <th></th>\n",
       "      <th>OPU</th>\n",
       "      <th>RPO</th>\n",
       "      <th>RPU</th>\n",
       "      <th>PPU</th>\n",
       "      <th>split_variant</th>\n",
       "    </tr>\n",
       "    <tr>\n",
       "      <th>customer_id</th>\n",
       "      <th></th>\n",
       "      <th></th>\n",
       "      <th></th>\n",
       "      <th></th>\n",
       "      <th></th>\n",
       "    </tr>\n",
       "  </thead>\n",
       "  <tbody>\n",
       "    <tr>\n",
       "      <th>193785</th>\n",
       "      <td>1</td>\n",
       "      <td>226.696</td>\n",
       "      <td>226.696</td>\n",
       "      <td>157.896</td>\n",
       "      <td>Default</td>\n",
       "    </tr>\n",
       "    <tr>\n",
       "      <th>244553</th>\n",
       "      <td>0</td>\n",
       "      <td>0.000</td>\n",
       "      <td>0.000</td>\n",
       "      <td>0.000</td>\n",
       "      <td>New</td>\n",
       "    </tr>\n",
       "    <tr>\n",
       "      <th>446050</th>\n",
       "      <td>0</td>\n",
       "      <td>0.000</td>\n",
       "      <td>0.000</td>\n",
       "      <td>0.000</td>\n",
       "      <td>Default</td>\n",
       "    </tr>\n",
       "    <tr>\n",
       "      <th>494511</th>\n",
       "      <td>0</td>\n",
       "      <td>0.000</td>\n",
       "      <td>0.000</td>\n",
       "      <td>0.000</td>\n",
       "      <td>Default</td>\n",
       "    </tr>\n",
       "    <tr>\n",
       "      <th>512605</th>\n",
       "      <td>0</td>\n",
       "      <td>0.000</td>\n",
       "      <td>0.000</td>\n",
       "      <td>0.000</td>\n",
       "      <td>New</td>\n",
       "    </tr>\n",
       "    <tr>\n",
       "      <th>...</th>\n",
       "      <td>...</td>\n",
       "      <td>...</td>\n",
       "      <td>...</td>\n",
       "      <td>...</td>\n",
       "      <td>...</td>\n",
       "    </tr>\n",
       "    <tr>\n",
       "      <th>2759315</th>\n",
       "      <td>0</td>\n",
       "      <td>0.000</td>\n",
       "      <td>0.000</td>\n",
       "      <td>0.000</td>\n",
       "      <td>Default</td>\n",
       "    </tr>\n",
       "    <tr>\n",
       "      <th>2759317</th>\n",
       "      <td>0</td>\n",
       "      <td>0.000</td>\n",
       "      <td>0.000</td>\n",
       "      <td>0.000</td>\n",
       "      <td>New</td>\n",
       "    </tr>\n",
       "    <tr>\n",
       "      <th>2759331</th>\n",
       "      <td>1</td>\n",
       "      <td>61.576</td>\n",
       "      <td>61.576</td>\n",
       "      <td>28.896</td>\n",
       "      <td>Default</td>\n",
       "    </tr>\n",
       "    <tr>\n",
       "      <th>2759333</th>\n",
       "      <td>0</td>\n",
       "      <td>0.000</td>\n",
       "      <td>0.000</td>\n",
       "      <td>0.000</td>\n",
       "      <td>Default</td>\n",
       "    </tr>\n",
       "    <tr>\n",
       "      <th>2759386</th>\n",
       "      <td>0</td>\n",
       "      <td>0.000</td>\n",
       "      <td>0.000</td>\n",
       "      <td>0.000</td>\n",
       "      <td>Default</td>\n",
       "    </tr>\n",
       "  </tbody>\n",
       "</table>\n",
       "<p>9716 rows × 5 columns</p>\n",
       "</div>"
      ],
      "text/plain": [
       "             OPU      RPO      RPU      PPU split_variant\n",
       "customer_id                                              \n",
       "193785         1  226.696  226.696  157.896       Default\n",
       "244553         0    0.000    0.000    0.000           New\n",
       "446050         0    0.000    0.000    0.000       Default\n",
       "494511         0    0.000    0.000    0.000       Default\n",
       "512605         0    0.000    0.000    0.000           New\n",
       "...          ...      ...      ...      ...           ...\n",
       "2759315        0    0.000    0.000    0.000       Default\n",
       "2759317        0    0.000    0.000    0.000           New\n",
       "2759331        1   61.576   61.576   28.896       Default\n",
       "2759333        0    0.000    0.000    0.000       Default\n",
       "2759386        0    0.000    0.000    0.000       Default\n",
       "\n",
       "[9716 rows x 5 columns]"
      ]
     },
     "execution_count": 10,
     "metadata": {
      "tags": []
     },
     "output_type": "execute_result"
    }
   ],
   "source": [
    "df_usrs"
   ]
  },
  {
   "cell_type": "code",
   "execution_count": 4,
   "metadata": {
    "colab": {
     "base_uri": "https://localhost:8080/",
     "height": 102
    },
    "colab_type": "code",
    "executionInfo": {
     "elapsed": 5994,
     "status": "ok",
     "timestamp": 1582792722747,
     "user": {
      "displayName": "Instructor DEVrepublik",
      "photoUrl": "",
      "userId": "04126342601489839050"
     },
     "user_tz": -120
    },
    "id": "L_i19s3vvCyt",
    "outputId": "0b25a65e-8d02-46cc-b03a-ce05e552f1d8"
   },
   "outputs": [
    {
     "name": "stdout",
     "output_type": "stream",
     "text": [
      "user_conversion_rate\n",
      "---------------------\n",
      "Default:  0.080,  New:  0.069\n",
      "Relative uplift: -13.7%\n",
      "p-value:  0.020\n"
     ]
    }
   ],
   "source": [
    "# user_conversion_rate\n",
    "\n",
    "data1 = df_usrs[df_usrs.split_variant == \"Default\"].OPU.astype(bool).astype(int)\n",
    "data2 = df_usrs[df_usrs.split_variant == \"New\"].OPU.astype(bool).astype(int)\n",
    "\n",
    "_, pvalue = ttest_ind(data1, data2, nan_policy=\"omit\")\n",
    "pvalue /= 2  # two-tailed ===>> one-tailed test\n",
    "\n",
    "print(\"user_conversion_rate\")\n",
    "print(\"---------------------\")\n",
    "print(f\"Default: {data1.mean(): .3f},  New: {data2.mean(): .3f}\")\n",
    "print(f\"Relative uplift: {(data2.mean() - data1.mean())/data1.mean()*100: .1f}%\")\n",
    "print(f\"p-value: {pvalue: .3f}\")"
   ]
  },
  {
   "cell_type": "code",
   "execution_count": 5,
   "metadata": {
    "colab": {
     "base_uri": "https://localhost:8080/",
     "height": 34
    },
    "colab_type": "code",
    "executionInfo": {
     "elapsed": 5982,
     "status": "ok",
     "timestamp": 1582792722752,
     "user": {
      "displayName": "Instructor DEVrepublik",
      "photoUrl": "",
      "userId": "04126342601489839050"
     },
     "user_tz": -120
    },
    "id": "o5lEKgvjsLNP",
    "outputId": "5e75d677-6191-46d1-f3ce-cd6eba814443"
   },
   "outputs": [
    {
     "data": {
      "text/plain": [
       "0"
      ]
     },
     "execution_count": 5,
     "metadata": {
      "tags": []
     },
     "output_type": "execute_result"
    }
   ],
   "source": [
    "(data1 > 1).sum()"
   ]
  },
  {
   "cell_type": "code",
   "execution_count": 6,
   "metadata": {
    "colab": {
     "base_uri": "https://localhost:8080/",
     "height": 102
    },
    "colab_type": "code",
    "executionInfo": {
     "elapsed": 5967,
     "status": "ok",
     "timestamp": 1582792722753,
     "user": {
      "displayName": "Instructor DEVrepublik",
      "photoUrl": "",
      "userId": "04126342601489839050"
     },
     "user_tz": -120
    },
    "id": "ggMWkLbHvJw4",
    "outputId": "86823df9-fe35-414a-bb3c-ab69d8451e86"
   },
   "outputs": [
    {
     "name": "stdout",
     "output_type": "stream",
     "text": [
      "ARPO\n",
      "---------------------\n",
      "Default:  220.073,  New:  247.558\n",
      "Relative uplift:  12.5%\n",
      "p-value:  0.020\n"
     ]
    }
   ],
   "source": [
    "# ARPO\n",
    "\n",
    "mask_paid = (df_usrs.OPU >= 1)\n",
    "mask_split = (df_usrs.split_variant == \"Default\")\n",
    "\n",
    "data1 = df_usrs[mask_paid & mask_split].RPO\n",
    "data2 = df_usrs[mask_paid & ~mask_split].RPO\n",
    "\n",
    "_, pvalue = ttest_ind(data1, data2, nan_policy=\"omit\")\n",
    "pvalue /= 2  # two-tailed ===>> one-tailed test\n",
    "\n",
    "print(\"ARPO\")\n",
    "print(\"---------------------\")\n",
    "print(f\"Default: {data1.mean(): .3f},  New: {data2.mean(): .3f}\")\n",
    "print(f\"Relative uplift: {(data2.mean() - data1.mean())/data1.mean()*100: .1f}%\")\n",
    "print(f\"p-value: {pvalue: .3f}\")"
   ]
  },
  {
   "cell_type": "code",
   "execution_count": 7,
   "metadata": {
    "colab": {
     "base_uri": "https://localhost:8080/",
     "height": 102
    },
    "colab_type": "code",
    "executionInfo": {
     "elapsed": 5946,
     "status": "ok",
     "timestamp": 1582792722754,
     "user": {
      "displayName": "Instructor DEVrepublik",
      "photoUrl": "",
      "userId": "04126342601489839050"
     },
     "user_tz": -120
    },
    "id": "qHU6D9-HwUTr",
    "outputId": "bcffa886-f977-45ec-e272-90a967aec075"
   },
   "outputs": [
    {
     "name": "stdout",
     "output_type": "stream",
     "text": [
      "AOPU\n",
      "---------------------\n",
      "Default:  1.204,  New:  1.299\n",
      "Relative uplift:  7.9%\n",
      "p-value:  0.071\n"
     ]
    }
   ],
   "source": [
    "# AOPU\n",
    "\n",
    "mask_paid = (df_usrs.OPU >= 1)\n",
    "mask_split = (df_usrs.split_variant == \"Default\")\n",
    "\n",
    "data1 = df_usrs[mask_paid & mask_split].OPU\n",
    "data2 = df_usrs[mask_paid & ~mask_split].OPU\n",
    "\n",
    "_, pvalue = ttest_ind(data1, data2, nan_policy=\"omit\")\n",
    "pvalue /= 2  # two-tailed ===>> one-tailed test\n",
    "\n",
    "print(\"AOPU\")\n",
    "print(\"---------------------\")\n",
    "print(f\"Default: {data1.mean(): .3f},  New: {data2.mean(): .3f}\")\n",
    "print(f\"Relative uplift: {(data2.mean() - data1.mean())/data1.mean()*100: .1f}%\")\n",
    "print(f\"p-value: {pvalue: .3f}\")"
   ]
  },
  {
   "cell_type": "code",
   "execution_count": 9,
   "metadata": {
    "colab": {
     "base_uri": "https://localhost:8080/",
     "height": 238
    },
    "colab_type": "code",
    "executionInfo": {
     "elapsed": 1231,
     "status": "ok",
     "timestamp": 1582792730452,
     "user": {
      "displayName": "Instructor DEVrepublik",
      "photoUrl": "",
      "userId": "04126342601489839050"
     },
     "user_tz": -120
    },
    "id": "RA4PtWeKzFSG",
    "outputId": "039ea1b1-c9b0-48b6-8727-bb1e4858115c"
   },
   "outputs": [
    {
     "data": {
      "text/plain": [
       "customer_id\n",
       "193785     0\n",
       "2260394    0\n",
       "2268971    0\n",
       "2369820    0\n",
       "2393876    0\n",
       "          ..\n",
       "2758410    0\n",
       "2758760    0\n",
       "2758995    0\n",
       "2759101    0\n",
       "2759331    0\n",
       "Name: OPU, Length: 387, dtype: int64"
      ]
     },
     "execution_count": 9,
     "metadata": {
      "tags": []
     },
     "output_type": "execute_result"
    }
   ],
   "source": [
    "data1"
   ]
  },
  {
   "cell_type": "code",
   "execution_count": 8,
   "metadata": {
    "colab": {
     "base_uri": "https://localhost:8080/",
     "height": 102
    },
    "colab_type": "code",
    "executionInfo": {
     "elapsed": 5930,
     "status": "ok",
     "timestamp": 1582792722755,
     "user": {
      "displayName": "Instructor DEVrepublik",
      "photoUrl": "",
      "userId": "04126342601489839050"
     },
     "user_tz": -120
    },
    "id": "cVREjenswgrs",
    "outputId": "c8c246ac-c291-492b-f012-f39900c281bc"
   },
   "outputs": [
    {
     "name": "stdout",
     "output_type": "stream",
     "text": [
      "AOPU\n",
      "---------------------\n",
      "Default:  0.119,  New:  0.186\n",
      "Relative uplift:  56.2%\n",
      "p-value:  0.006\n"
     ]
    }
   ],
   "source": [
    "# ret1to2\n",
    "\n",
    "mask_paid = (df_usrs.OPU >= 1)\n",
    "mask_split = (df_usrs.split_variant == \"Default\")\n",
    "\n",
    "data1 = df_usrs[mask_paid & mask_split].OPU.apply(lambda x: (x >= 2)).astype(int)\n",
    "data2 = df_usrs[mask_paid & ~mask_split].OPU.apply(lambda x: (x >= 2)).astype(int)\n",
    "\n",
    "_, pvalue = ttest_ind(data1, data2, nan_policy=\"omit\")\n",
    "pvalue /= 2  # two-tailed ===>> one-tailed test\n",
    "\n",
    "print(\"AOPU\")\n",
    "print(\"---------------------\")\n",
    "print(f\"Default: {data1.mean(): .3f},  New: {data2.mean(): .3f}\")\n",
    "print(f\"Relative uplift: {(data2.mean() - data1.mean())/data1.mean()*100: .1f}%\")\n",
    "print(f\"p-value: {pvalue: .3f}\")"
   ]
  },
  {
   "cell_type": "code",
   "execution_count": 0,
   "metadata": {
    "colab": {
     "base_uri": "https://localhost:8080/",
     "height": 104
    },
    "colab_type": "code",
    "executionInfo": {
     "elapsed": 1062,
     "status": "ok",
     "timestamp": 1576567977118,
     "user": {
      "displayName": "Ivan Luchko",
      "photoUrl": "https://lh3.googleusercontent.com/a-/AAuE7mBAud-a6f2pz7vBJagaMtth5HrBeR4bqeQX3ZfA=s64",
      "userId": "03153475621117322447"
     },
     "user_tz": -120
    },
    "id": "_pBxsH_xxauK",
    "outputId": "85b43646-773c-4b89-8a09-3acc39fd3e0a"
   },
   "outputs": [
    {
     "name": "stdout",
     "output_type": "stream",
     "text": [
      "ARPU_visitor\n",
      "---------------------\n",
      "Default:  26.805,  New:  27.333\n",
      "Relative uplift:  2.0%\n",
      "p-value:  0.425\n"
     ]
    }
   ],
   "source": [
    "# ARPU_visitor\n",
    "\n",
    "mask_split = (df_usrs.split_variant == \"Default\")\n",
    "\n",
    "data1 = df_usrs[mask_split].RPU\n",
    "data2 = df_usrs[~mask_split].RPU\n",
    "\n",
    "_, pvalue = ttest_ind(data1, data2, nan_policy=\"omit\")\n",
    "pvalue /= 2  # two-tailed ===>> one-tailed test\n",
    "\n",
    "print(\"ARPU_visitor\")\n",
    "print(\"---------------------\")\n",
    "print(f\"Default: {data1.mean(): .3f},  New: {data2.mean(): .3f}\")\n",
    "print(f\"Relative uplift: {(data2.mean() - data1.mean())/data1.mean()*100: .1f}%\")\n",
    "print(f\"p-value: {pvalue: .3f}\")"
   ]
  },
  {
   "cell_type": "code",
   "execution_count": 0,
   "metadata": {
    "colab": {
     "base_uri": "https://localhost:8080/",
     "height": 104
    },
    "colab_type": "code",
    "executionInfo": {
     "elapsed": 1204,
     "status": "ok",
     "timestamp": 1576568000477,
     "user": {
      "displayName": "Ivan Luchko",
      "photoUrl": "https://lh3.googleusercontent.com/a-/AAuE7mBAud-a6f2pz7vBJagaMtth5HrBeR4bqeQX3ZfA=s64",
      "userId": "03153475621117322447"
     },
     "user_tz": -120
    },
    "id": "Gub10VPXxk36",
    "outputId": "d128fc76-bdff-42ac-85c0-62371b9661ea"
   },
   "outputs": [
    {
     "name": "stdout",
     "output_type": "stream",
     "text": [
      "APPU_visitor\n",
      "---------------------\n",
      "Default:  17.461,  New:  19.098\n",
      "Relative uplift:  9.4%\n",
      "p-value:  0.211\n"
     ]
    }
   ],
   "source": [
    "# APPU_visitor\n",
    "\n",
    "mask_split = (df_usrs.split_variant == \"Default\")\n",
    "\n",
    "data1 = df_usrs[mask_split].PPU\n",
    "data2 = df_usrs[~mask_split].PPU\n",
    "\n",
    "_, pvalue = ttest_ind(data1, data2, nan_policy=\"omit\")\n",
    "pvalue /= 2  # two-tailed ===>> one-tailed test\n",
    "\n",
    "print(\"APPU_visitor\")\n",
    "print(\"---------------------\")\n",
    "print(f\"Default: {data1.mean(): .3f},  New: {data2.mean(): .3f}\")\n",
    "print(f\"Relative uplift: {(data2.mean() - data1.mean())/data1.mean()*100: .1f}%\")\n",
    "print(f\"p-value: {pvalue: .3f}\")"
   ]
  },
  {
   "cell_type": "markdown",
   "metadata": {
    "colab_type": "text",
    "id": "QqkvBokVxs9k"
   },
   "source": [
    "Total profit per visitor increased despite the conversion drop. However results are not significat yet, so i would continue the experiment."
   ]
  }
 ],
 "metadata": {
  "colab": {
   "authorship_tag": "ABX9TyPcaIGjjtA8zf4UhgGvPleM",
   "name": "E-commerce Task Solution.ipynb",
   "provenance": []
  },
  "kernelspec": {
   "display_name": "Python 3 (ipykernel)",
   "language": "python",
   "name": "python3"
  },
  "language_info": {
   "codemirror_mode": {
    "name": "ipython",
    "version": 3
   },
   "file_extension": ".py",
   "mimetype": "text/x-python",
   "name": "python",
   "nbconvert_exporter": "python",
   "pygments_lexer": "ipython3",
   "version": "3.9.12"
  }
 },
 "nbformat": 4,
 "nbformat_minor": 1
}
